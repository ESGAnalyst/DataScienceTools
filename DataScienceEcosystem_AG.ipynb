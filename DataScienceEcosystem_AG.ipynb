{
  "metadata": {
    "kernelspec": {
      "name": "python",
      "display_name": "Python (Pyodide)",
      "language": "python"
    },
    "language_info": {
      "codemirror_mode": {
        "name": "python",
        "version": 3
      },
      "file_extension": ".py",
      "mimetype": "text/x-python",
      "name": "python",
      "nbconvert_exporter": "python",
      "pygments_lexer": "ipython3",
      "version": "3.8"
    }
  },
  "nbformat_minor": 4,
  "nbformat": 4,
  "cells": [
    {
      "cell_type": "markdown",
      "source": "# Exercise 3: Introduction\nThis is the final exam for Data Science Tools class. In this notebook, Data Science Tools and Ecosystems are Summarized. ",
      "metadata": {}
    },
    {
      "cell_type": "markdown",
      "source": "# Exercise 10: Objectives\n**Objectives**\n- Become familiar the many types of data science tools, such as those for data management, transformation, analysis, model development/deployment/monitoring, visualization, code asset tools\n- Become familiar with data science languages\n- Understand how the tools interact and are used with eachother\n- Practice the python language in Jupyter notebooks and accessing data graphing tools like matplotlib\n- Practice the R language in R Studo and accessing the ggplot library\n- Practice using Github, a code version control system. ",
      "metadata": {}
    },
    {
      "cell_type": "markdown",
      "source": "# Exercise 11 - Author Details\n## Author\nAmanda I. Greene\n",
      "metadata": {}
    },
    {
      "cell_type": "markdown",
      "source": "# Exercise 4 - Data Science Languages\nIn this section, I'm going to list data science languages.\n## Common Languages\nSome of the most used ones are Python, R, Javascrip, Java, Julia and C++\nThe most difficult to learn is typically considered to be C++. I took a C programming class in college may year agao, but not C++\n## Difficulty\nJava is the next most difficult then JavaScript. \nThe above 3 are languages people typically learn as SW developers and progammers in school.\nR, Python and Julia are easier to learn and people without programming degrees, but who work in data analysis, such as policy analysts and financial analysts often learn them. \nR is considered harder than Python, however, the syntax felt a bit more intuitive to me. \n## Other Languages\nSome additional languages are SQL, which is used in Tableau and Access as a search and query tool, SAS, Scale and Perl",
      "metadata": {}
    },
    {
      "cell_type": "markdown",
      "source": "# Exercise 5 - Data Science Libraries\nSome of the most common Data Science Libraries:\n## Python\nmatplotlib, NumPy, Pandas, Seaborn, Plotly TensorFlow, Keras, SciPi. \nIn the practice assigmen, I used matplotlib, NumPy, Pandas and Seaborn, though Seaborn didn't seem to be accessible to me in JupyterLite. \nI used Jupyter Lite and Google Colab to practice Python. Looking at my notes, I see that TensorFlow is a deeplearning library as is Scikit-learn, PyTorch and Keras. I didn't work with those yet.\n## R \nIn R Studio, the library I used were ggplot2 (parallel to Matplotlib datavisualization) and Plotly, which is also used with python. Ididn't wind up loading Dplyr in R Studio practice, which is the R equivalent of Pandas. I also used GGally which adds to the ggplot function with pairing, but I had to install and load some dependencies before I could load GGally - Patchwork, Broom helpers and GGStats. \n## Other\nLooking at my notes I see that Apache spark has its own Spark Library with similar functionality as Pandas, NumPy and Scikit-learn\nScala has its own libraries as well. I didn't work with Scale in this course, so not familiar with those.",
      "metadata": {}
    },
    {
      "cell_type": "markdown",
      "source": "# Exercise 6 - Table of Data Science Tools\nIn this exercise we were supposed to make a one column table, but I made three for extra practice. There are a lot of types of tools, so first I listed the Tool type, then the tool name, then a description\n| Tool Type | Tool Name| Description |\n| ------------| ------------ | -------------|\n| Data Management | MySQL | Organizes data in tables, relational databases |\n| Data Management | Hadoop, MongoDB | More sophisticated data management |\n| Data Integration | Apache AirFlow, SparkSQL | ETL tools - data refining and cleansing |\n| Data Visualization | Tableau, PowerBI, Pixie Dust, Kibana |  |\n| Data Visualization | Libraries like plotly, matplotlib, numpy | graphing and plotting |\n| Model Development | IBM Watson | Create algorithmic and machine learning models |\n| Model Deployment | TensorFlow, Kubernetes | predicting future based on model |\n| Model Monitoring | Prometheus | stores metrics, monitors health | \n| Data Analysis | Jupyter | Operating system to manage, analyze and graph data |\n| Data Analysis | R Studio | same |\n| Data Analysis| Spyder, KNIME, MS Visual, Anaconda | |\n| Processing/Computation | Apache Spark, Zeppelin, Ray, HIVE | |\n| Code Asset Tools | Git, GitHub, Bitbucket, Gitlab | repositor for version control of code | \n| Data Asset Tools | Atlas | manage data | ",
      "metadata": {}
    },
    {
      "cell_type": "markdown",
      "source": "# Exercise 7 - Arithmetic Expresions\n### Below are Example of Evaluating Arthimetic Expression in Python",
      "metadata": {}
    },
    {
      "cell_type": "code",
      "source": "# Exercise 8 Code Cell Arithmetics\n2+5*9",
      "metadata": {
        "trusted": true
      },
      "outputs": [
        {
          "execution_count": 8,
          "output_type": "execute_result",
          "data": {
            "text/plain": "47"
          },
          "metadata": {}
        }
      ],
      "execution_count": 8
    },
    {
      "cell_type": "code",
      "source": "# Exercise 9 - This will convert minutes to hours using division\n200/60",
      "metadata": {
        "trusted": true
      },
      "outputs": [
        {
          "execution_count": 9,
          "output_type": "execute_result",
          "data": {
            "text/plain": "3.3333333333333335"
          },
          "metadata": {}
        }
      ],
      "execution_count": 9
    },
    {
      "cell_type": "code",
      "source": "",
      "metadata": {
        "trusted": true
      },
      "outputs": [],
      "execution_count": null
    },
    {
      "cell_type": "code",
      "source": "",
      "metadata": {
        "trusted": true
      },
      "outputs": [],
      "execution_count": null
    },
    {
      "cell_type": "code",
      "source": "",
      "metadata": {
        "trusted": true
      },
      "outputs": [],
      "execution_count": null
    }
  ]
}